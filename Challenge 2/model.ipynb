{
 "cells": [
  {
   "cell_type": "markdown",
   "source": [
    "# Import necessary libraries"
   ],
   "metadata": {
    "id": "bkdzQcu6tUAz"
   }
  },
  {
   "cell_type": "code",
   "execution_count": 5,
   "outputs": [
    {
     "name": "stdout",
     "output_type": "stream",
     "text": [
      "Running outside Google Colab environment...\n",
      "Tensorflow Version: 2.15.0\n"
     ]
    }
   ],
   "source": [
    "import os\n",
    "os.environ['TF_CPP_MIN_LOG_LEVEL'] = '3'\n",
    "if os.getenv(\"COLAB_RELEASE_TAG\"):\n",
    "    print(\"Running in Google Colab environment.\")\n",
    "    from google.colab import drive\n",
    "    IN_COLAB = True\n",
    "else:\n",
    "    print(\"Running outside Google Colab environment...\")\n",
    "    IN_COLAB = False\n",
    "\n",
    "import random\n",
    "import logging\n",
    "import keras_cv\n",
    "import warnings\n",
    "from time import strftime\n",
    "import numpy as np\n",
    "import pandas as pd\n",
    "from scipy import stats\n",
    "import matplotlib.pyplot as plt\n",
    "import keras_tuner\n",
    "import tensorflow as tf\n",
    "from keras import layers as tfkl\n",
    "from tensorflow import keras as tfk\n",
    "from collections import Counter\n",
    "from imblearn.over_sampling import SMOTE\n",
    "from sklearn.preprocessing import LabelEncoder\n",
    "from tensorflow.keras.utils import to_categorical\n",
    "from imblearn.under_sampling import RandomUnderSampler\n",
    "from sklearn.model_selection import train_test_split\n",
    "from sklearn.metrics import accuracy_score, f1_score, precision_score, recall_score, confusion_matrix\n",
    "\n",
    "# Asserting the use of GPU\n",
    "assert (tf.config.list_physical_devices('GPU')) != [], \"No GPU was detected. Aborting.\"\n",
    "\n",
    "# Environment Settings\n",
    "seed = 42\n",
    "os.environ['PYTHONHASHSEED'] = str(seed)\n",
    "os.environ['MPLCONFIGDIR'] = os.getcwd() + '/configs/'\n",
    "warnings.simplefilter(action='ignore', category=FutureWarning)\n",
    "warnings.simplefilter(action='ignore', category=Warning)\n",
    "np.random.seed(seed)\n",
    "random.seed(seed)\n",
    "tf.random.set_seed(seed)\n",
    "tf.autograph.set_verbosity(0)\n",
    "tf.get_logger().setLevel(logging.ERROR)\n",
    "tf.compat.v1.logging.set_verbosity(tf.compat.v1.logging.ERROR)\n",
    "tf.random.set_seed(seed)\n",
    "tf.compat.v1.set_random_seed(seed)\n",
    "\n",
    "print(f'Tensorflow Version: {tf.__version__}')\n"
   ],
   "metadata": {
    "collapsed": false,
    "ExecuteTime": {
     "end_time": "2023-12-22T16:55:38.169784100Z",
     "start_time": "2023-12-22T16:55:38.162798600Z"
    }
   }
  },
  {
   "cell_type": "markdown",
   "source": [
    "# Dataset Processing"
   ],
   "metadata": {
    "id": "rq0dGKpytdF_"
   }
  },
  {
   "cell_type": "markdown",
   "source": [
    "### Load training data"
   ],
   "metadata": {
    "id": "6r_ZJBN1wFgE"
   }
  },
  {
   "cell_type": "code",
   "execution_count": 6,
   "metadata": {
    "colab": {
     "base_uri": "https://localhost:8080/"
    },
    "id": "kEUPTHLDrKOU",
    "outputId": "d5e70bd3-6463-4a16-8938-dc3b6a24077b",
    "ExecuteTime": {
     "end_time": "2023-12-22T16:55:42.086300400Z",
     "start_time": "2023-12-22T16:55:39.969751700Z"
    }
   },
   "outputs": [],
   "source": [
    "# Dataset\n",
    "if IN_COLAB:\n",
    "    drive.mount('/gdrive')\n",
    "    %cd /gdrive/My Drive/Challenge2/\n",
    "\n",
    "dataset = \"Dataset/training_data.npy\"\n",
    "valid_periods_set = \"Dataset/valid_periods.npy\"\n",
    "categories_set = \"Dataset/categories.npy\"\n",
    "testing_set_size = 0.10\n",
    "\n",
    "training_data = np.load(f'{dataset}')\n",
    "valid_periods_x = np.load(f'{valid_periods_set}')\n",
    "categories = np.load(f'{categories_set}')"
   ]
  },
  {
   "cell_type": "markdown",
   "source": [
    "### Data inspection"
   ],
   "metadata": {
    "id": "-pAFWfKnwIev"
   }
  },
  {
   "cell_type": "code",
   "execution_count": 12,
   "metadata": {
    "colab": {
     "base_uri": "https://localhost:8080/"
    },
    "id": "lFv92SbQujlX",
    "outputId": "cc1edd69-a9ee-4132-fa1d-9cf2ce33dcd2",
    "ExecuteTime": {
     "end_time": "2023-12-22T16:58:39.311802Z",
     "start_time": "2023-12-22T16:58:38.997774700Z"
    }
   },
   "outputs": [
    {
     "name": "stdout",
     "output_type": "stream",
     "text": [
      "Training Data Shape: (48000, 2776)\n",
      "Valid Periods Shape: (48000, 2)\n",
      "Categories Shape: (48000,)\n"
     ]
    },
    {
     "data": {
      "text/plain": "<Figure size 1200x600 with 1 Axes>",
      "image/png": "[encoded data removed]"
     },
     "metadata": {},
     "output_type": "display_data"
    },
    {
     "name": "stdout",
     "output_type": "stream",
     "text": [
      "Category A has mean length 278.18034217877096, and min 46, and max 1943, and variance 11942.301799324256\n",
      "Category B has mean length 165.9428415400018, and min 42, and max 1484, and variance 13487.719678209438\n",
      "Category C has mean length 208.14625137266646, and min 42, and max 2708, and variance 21398.457097108814\n",
      "Category D has mean length 216.9909145367412, and min 42, and max 2641, and variance 22250.64638310931\n",
      "Category E has mean length 163.04601366742597, and min 42, and max 2776, and variance 16380.545582059038\n",
      "Category F has mean length 194.8303249097473, and min 24, and max 1068, and variance 23449.9242789558\n"
     ]
    }
   ],
   "source": [
    "print(f'Training Data Shape: {training_data.shape}')\n",
    "print(f'Valid Periods Shape: {valid_periods_x.shape}')\n",
    "print(f'Categories Shape: {categories.shape}')\n",
    "\n",
    "z=plt.figure(num=1,figsize=(12,6))\n",
    "plt.hist(categories,bins=range(len(set(categories))+1),edgecolor='black', align='left', rwidth=0.8)\n",
    "plt.xlabel(\"Labels\")\n",
    "plt.ylabel(\"Frequency\", )\n",
    "plt.title(\"Histogram of Labels\")\n",
    "plt.show()\n",
    "\n",
    "# Calculate statistics on signal length for each category\n",
    "def clac_stats(training_data, valid_periods_x):\n",
    "    # Create a dictionary containing the base signals for each category, without the zero-padding\n",
    "    valid_signals_dict = {'A':[], 'B':[], 'C':[], 'D':[], 'E':[], 'F':[]}\n",
    "    for i in range(categories.shape[0]):\n",
    "        valid_signals_dict[categories[i]].append(training_data[i][valid_periods_x[i][0]:valid_periods_x[i][1]])\n",
    "    \n",
    "    stats_dict = {}\n",
    "    for category in valid_signals_dict:\n",
    "        stats_dict[category] = {'mean_length':0, 'variance_length':0, 'min_value':0, 'max_value':0}\n",
    "        lengths = [len(signal) for signal in valid_signals_dict[category]]\n",
    "        stats_dict[category]['mean_length'] = np.mean(lengths)\n",
    "        stats_dict[category]['variance_length'] = np.var(lengths)\n",
    "        stats_dict[category]['min_length'] = np.min(lengths)\n",
    "        stats_dict[category]['max_length'] = np.max(lengths)\n",
    "    return stats_dict\n",
    "    \n",
    "stats_dict0 = clac_stats(training_data, valid_periods_x)\n",
    "for category in stats_dict0:\n",
    "    print(f\"Category {category} has \"\n",
    "          f\"mean length {stats_dict0[category]['mean_length']}, and \"\n",
    "          f\"min {stats_dict0[category]['min_length']}, and \"\n",
    "          f\"max {stats_dict0[category]['max_length']}, and \"\n",
    "          f\"variance {stats_dict0[category]['variance_length']}\")"
   ]
  },
  {
   "cell_type": "markdown",
   "source": [
    "# Balance the dataset\n",
    "The distribution of the categories implies the fact that the dataset is imbalanced. To solve this problem, various techniques have been applied. First, the number of samples belonging to classes *A* and *F* has been increased using SMOTE. Then, a subset of samples belonging to classes *B*, *C*, *D*, *E* has been selected randomly, according to a desired sampling strategy, using RandomUnderSampler. The final dataset is still imbalanced, but the disparity between the categories is significantly reduced."
   ],
   "metadata": {
    "collapsed": false
   }
  },
  {
   "cell_type": "code",
   "execution_count": 13,
   "outputs": [],
   "source": [
    "# Calculate the number of samples for each category\n",
    "label_counts = Counter(categories)"
   ],
   "metadata": {
    "collapsed": false,
    "ExecuteTime": {
     "end_time": "2023-12-22T16:58:45.567451Z",
     "start_time": "2023-12-22T16:58:45.554196800Z"
    }
   }
  },
  {
   "cell_type": "markdown",
   "metadata": {
    "id": "__tsFf6a3ZAB"
   },
   "source": [
    "## SMOTE Oversampling\n",
    "Increase the number of samples belonging to classes *A* and *F*, using SMOTE."
   ]
  },
  {
   "cell_type": "code",
   "execution_count": 14,
   "metadata": {
    "id": "pGQ-iIi1tldF",
    "ExecuteTime": {
     "end_time": "2023-12-22T16:58:49.876974Z",
     "start_time": "2023-12-22T16:58:46.678574100Z"
    }
   },
   "outputs": [],
   "source": [
    "smote_target_ratios = {'A': 1.2, 'B': 1.0, 'C': 1.0, 'D': 1.0, 'E': 1.0, 'F': 5.0}\n",
    "smote_target_counts = {}\n",
    "for label, count in label_counts.items():\n",
    "    smote_target_counts[label] = int(count * smote_target_ratios[label])\n",
    "\n",
    "smote = SMOTE(sampling_strategy=smote_target_counts, random_state=seed)\n",
    "smote_training_data, smote_categories = smote.fit_resample(training_data, categories)\n",
    "\n",
    "label_counts_smote = Counter(smote_categories)"
   ]
  },
  {
   "cell_type": "markdown",
   "metadata": {
    "id": "mJncSrqJ6bW0"
   },
   "source": [
    "## RandomUnderSampling\n",
    "Select randomly a subset of samples from categories B, C, D, E, according to the desired sampling strategy. While the dataset remains imbalanced, the disparity between the categories is significantly reduced."
   ]
  },
  {
   "cell_type": "code",
   "execution_count": 15,
   "metadata": {
    "id": "2IDRMKM36fVk",
    "ExecuteTime": {
     "end_time": "2023-12-22T16:58:50.067197500Z",
     "start_time": "2023-12-22T16:58:49.876974Z"
    }
   },
   "outputs": [],
   "source": [
    "undersampling_target_ratios = {'A':1.0, 'B': 0.8, 'C': 0.8, 'D': 0.8, 'E': 0.8, 'F':1.0}\n",
    "undersampling_target_counts = {}\n",
    "for label, count in label_counts_smote.items():\n",
    "    undersampling_target_counts[label] = int(count * undersampling_target_ratios[label])\n",
    "\n",
    "undersampler = RandomUnderSampler(sampling_strategy=undersampling_target_counts, random_state=42)\n",
    "undersampled_training_data, undersampled_categories = undersampler.fit_resample(smote_training_data, smote_categories)\n",
    "\n",
    "label_counts_undr = Counter(undersampled_categories)"
   ]
  },
  {
   "cell_type": "code",
   "execution_count": 16,
   "metadata": {
    "colab": {
     "base_uri": "https://localhost:8080/",
     "height": 490
    },
    "id": "2PVFdVbw6fKz",
    "outputId": "a3810fe9-c852-4351-9c36-b29191387eea",
    "ExecuteTime": {
     "end_time": "2023-12-22T16:58:50.961632800Z",
     "start_time": "2023-12-22T16:58:50.683148200Z"
    }
   },
   "outputs": [
    {
     "name": "stdout",
     "output_type": "stream",
     "text": [
      "No Sampling:\n",
      "D: 10016\n",
      "E: 10975\n",
      "A: 5728\n",
      "C: 10017\n",
      "B: 10987\n",
      "F: 277\n",
      "\n",
      "Smote:\n",
      "D: 10016\n",
      "E: 10975\n",
      "A: 6873\n",
      "C: 10017\n",
      "B: 10987\n",
      "F: 1385\n",
      "\n",
      "Undersampling:\n",
      "A: 6873\n",
      "B: 8789\n",
      "C: 8013\n",
      "D: 8012\n",
      "E: 8780\n",
      "F: 1385\n"
     ]
    },
    {
     "data": {
      "text/plain": "<Figure size 1200x600 with 1 Axes>",
      "image/png": "[encoded data removed]"
     },
     "metadata": {},
     "output_type": "display_data"
    }
   ],
   "source": [
    "print('No Sampling:')\n",
    "for label, count in label_counts.items():\n",
    "    print(f'{label}: {count}')\n",
    "\n",
    "print('\\nSmote:')\n",
    "for label, count in label_counts_smote.items():\n",
    "    print(f'{label}: {count}')\n",
    "\n",
    "print('\\nUndersampling:')\n",
    "for label, count in label_counts_undr.items():\n",
    "    print(f'{label}: {count}')\n",
    "\n",
    "z=plt.figure(num=1,figsize=(12,6))\n",
    "plt.hist([categories,smote_categories,undersampled_categories],bins=range(len(set(categories))+1),edgecolor='black', align='left', rwidth=0.8)\n",
    "plt.xlabel(\"Labels\")\n",
    "plt.ylabel(\"Frequency\", )\n",
    "plt.title(\"Histogram of Labels\")\n",
    "plt.legend(['No sampling','SMOTE','SMOTE+Undersampling'])\n",
    "plt.show()"
   ]
  },
  {
   "cell_type": "markdown",
   "source": [
    "# Data inspection and adjustment"
   ],
   "metadata": {
    "id": "WABZqUyAtte5"
   }
  },
  {
   "cell_type": "markdown",
   "metadata": {
    "id": "ZLhVGOEw6f0g"
   },
   "source": [
    "### Update valid periods"
   ]
  },
  {
   "cell_type": "code",
   "execution_count": 17,
   "metadata": {
    "colab": {
     "base_uri": "https://localhost:8080/"
    },
    "id": "dey5QAYexUhL",
    "outputId": "50afacf3-c021-420b-d650-e353e7053f4f",
    "ExecuteTime": {
     "end_time": "2023-12-22T16:59:41.707959700Z",
     "start_time": "2023-12-22T16:59:14.940751800Z"
    }
   },
   "outputs": [
    {
     "name": "stdout",
     "output_type": "stream",
     "text": [
      "Category A:\n",
      "    mean length: 278.18034217877096 -> 278.97613851302197\n",
      "    variance of the length: 11942.301799324256 -> 12047.50706921521\n",
      "    min length: 0 -> 0\n",
      "    max length: 0 -> 0\n",
      "\n",
      "Category B:\n",
      "    mean length: 165.9428415400018 -> 165.63204005006259\n",
      "    variance of the length: 13487.719678209438 -> 13272.20025230651\n",
      "    min length: 0 -> 0\n",
      "    max length: 0 -> 0\n",
      "\n",
      "Category C:\n",
      "    mean length: 208.14625137266646 -> 206.93248471234244\n",
      "    variance of the length: 21398.457097108814 -> 21197.46043607006\n",
      "    min length: 0 -> 0\n",
      "    max length: 0 -> 0\n",
      "\n",
      "Category D:\n",
      "    mean length: 216.9909145367412 -> 215.82588617074387\n",
      "    variance of the length: 22250.64638310931 -> 21966.825525612607\n",
      "    min length: 0 -> 0\n",
      "    max length: 0 -> 0\n",
      "\n",
      "Category E:\n",
      "    mean length: 163.04601366742597 -> 163.29589977220957\n",
      "    variance of the length: 16380.545582059038 -> 16793.959595944394\n",
      "    min length: 0 -> 0\n",
      "    max length: 0 -> 0\n",
      "\n",
      "Category F:\n",
      "    mean length: 194.8303249097473 -> 215.9754512635379\n",
      "    variance of the length: 23449.9242789558 -> 30014.84705078914\n",
      "    min length: 0 -> 0\n",
      "    max length: 0 -> 0\n"
     ]
    }
   ],
   "source": [
    "training_data = undersampled_training_data\n",
    "categories = undersampled_categories\n",
    "\n",
    "# Extract valid periods from the training data, after the resampling process\n",
    "valid_periods = []\n",
    "sequence_length = 2776\n",
    "for i in range(training_data.shape[0]):\n",
    "    for j in range(training_data.shape[1]):\n",
    "        if training_data[i][j] != 0:\n",
    "            # Append the current index and value to valid_periods\n",
    "            valid_periods.append((j,sequence_length))\n",
    "            break\n",
    "valid_periods = np.array(valid_periods)\n",
    "\n",
    "# Calculate statistics on signal length for each category after resampling\n",
    "stats_dict1 = clac_stats(training_data, valid_periods)\n",
    "\n",
    "# Show comparison of the statistics before and after resampling\n",
    "for category in stats_dict1:\n",
    "    print(f\"Category {category}:\\n\"\n",
    "          f\"    mean length: {stats_dict0[category]['mean_length']} -> {stats_dict1[category]['mean_length']}\\n\"\n",
    "          f\"    variance of the length: {stats_dict0[category]['variance_length']} -> {stats_dict1[category]['variance_length']}\\n\"\n",
    "          f\"    min length: {stats_dict0[category]['min_value']} -> {stats_dict1[category]['min_value']}\\n\"\n",
    "          f\"    max length: {stats_dict0[category]['max_value']} -> {stats_dict1[category]['max_value']}\\n\")\n",
    "          "
   ]
  },
  {
   "cell_type": "markdown",
   "source": [
    "### Prepare invalid period for masking"
   ],
   "metadata": {
    "collapsed": false
   }
  },
  {
   "cell_type": "code",
   "execution_count": 20,
   "metadata": {
    "id": "Gv-7TwuFy4UC",
    "ExecuteTime": {
     "end_time": "2023-12-22T17:02:44.067112100Z",
     "start_time": "2023-12-22T17:02:43.827004600Z"
    }
   },
   "outputs": [],
   "source": [
    "# Set values of invalid periods to -1.0 to be masked in training phase\n",
    "def mask_invalid_values(data, valid_periods):\n",
    "    for i in range(data.shape[0]):\n",
    "        start = valid_periods[i][0]\n",
    "        end = valid_periods[i][1]\n",
    "        data[i][:start] = -1.0\n",
    "        data[i][end:] = -1.0\n",
    "    return data\n",
    "\n",
    "training_data = mask_invalid_values(training_data, valid_periods)"
   ]
  },
  {
   "cell_type": "markdown",
   "source": [
    "### Convert the labels"
   ],
   "metadata": {
    "collapsed": false
   }
  },
  {
   "cell_type": "code",
   "execution_count": 21,
   "metadata": {
    "colab": {
     "base_uri": "https://localhost:8080/"
    },
    "id": "oMyHV6E0y5Jf",
    "outputId": "aaedac5c-62fa-41a1-b466-22eef457b727",
    "ExecuteTime": {
     "end_time": "2023-12-22T17:02:45.030953900Z",
     "start_time": "2023-12-22T17:02:44.967431Z"
    }
   },
   "outputs": [
    {
     "name": "stdout",
     "output_type": "stream",
     "text": [
      "(41852, 6)\n"
     ]
    }
   ],
   "source": [
    "encoder = LabelEncoder()\n",
    "labels = encoder.fit_transform(categories)\n",
    "labels = to_categorical(labels)\n",
    "print(labels.shape)"
   ]
  },
  {
   "cell_type": "markdown",
   "metadata": {
    "id": "S9aDQwyq3pDT"
   },
   "source": [
    "### Split the dataset"
   ]
  },
  {
   "cell_type": "code",
   "execution_count": 22,
   "metadata": {
    "id": "8DxW1N6ZEV98",
    "ExecuteTime": {
     "end_time": "2023-12-22T17:02:48.186952600Z",
     "start_time": "2023-12-22T17:02:47.173530300Z"
    }
   },
   "outputs": [],
   "source": [
    "X_train_val, X_tests, y_train_val_classification, y_test_classification = train_test_split(training_data, categories, random_state=seed, test_size=0.05, stratify=categories)\n",
    "X_trains, X_vals, y_train_classification, y_val_classification = train_test_split(X_train_val, y_train_val_classification, random_state=seed, test_size=0.15, stratify=y_train_val_classification)"
   ]
  },
  {
   "cell_type": "code",
   "execution_count": 23,
   "outputs": [],
   "source": [
    "test_length = 18"
   ],
   "metadata": {
    "collapsed": false,
    "ExecuteTime": {
     "end_time": "2023-12-22T17:02:48.234277600Z",
     "start_time": "2023-12-22T17:02:48.185958700Z"
    }
   }
  },
  {
   "cell_type": "code",
   "execution_count": 24,
   "outputs": [],
   "source": [
    "def organize_data(X_):\n",
    "  X_ = np.expand_dims(X_, axis=-1) # monovariate -> expand axis=-1 with 1\n",
    "\n",
    "  # X\n",
    "  X = X_[:,:-test_length] # exclude the last 18 samples\n",
    "  X = X[:, -200:] # fixed dimension, consider only last 200 samples\n",
    "\n",
    "  # y\n",
    "  y_forecasting = X_[:,-test_length:] # last 18 samples of each serie\n",
    "\n",
    "  return X, y_forecasting"
   ],
   "metadata": {
    "collapsed": false,
    "ExecuteTime": {
     "end_time": "2023-12-22T17:02:48.395322400Z",
     "start_time": "2023-12-22T17:02:48.385813200Z"
    }
   }
  },
  {
   "cell_type": "code",
   "execution_count": 25,
   "outputs": [],
   "source": [
    "X_train, y_train_forecasting = organize_data(X_trains)\n",
    "X_val, y_val_forecasting = organize_data(X_vals)\n",
    "X_test, y_test_forecasting = organize_data(X_tests)"
   ],
   "metadata": {
    "collapsed": false,
    "ExecuteTime": {
     "end_time": "2023-12-22T17:02:49.116922400Z",
     "start_time": "2023-12-22T17:02:49.086384700Z"
    }
   }
  },
  {
   "cell_type": "code",
   "execution_count": 26,
   "outputs": [
    {
     "name": "stdout",
     "output_type": "stream",
     "text": [
      "(33795, 200, 1)\n",
      "(5964, 200, 1)\n",
      "(2093, 200, 1)\n"
     ]
    }
   ],
   "source": [
    "# X_\n",
    "print(X_train.shape)\n",
    "print(X_val.shape)\n",
    "print(X_test.shape)"
   ],
   "metadata": {
    "collapsed": false,
    "ExecuteTime": {
     "end_time": "2023-12-22T17:02:49.496335500Z",
     "start_time": "2023-12-22T17:02:49.458780900Z"
    }
   }
  },
  {
   "cell_type": "code",
   "execution_count": 27,
   "outputs": [
    {
     "name": "stdout",
     "output_type": "stream",
     "text": [
      "(33795, 18, 1)\n",
      "(5964, 18, 1)\n",
      "(2093, 18, 1)\n"
     ]
    }
   ],
   "source": [
    "# Y_\n",
    "print(y_train_forecasting.shape)\n",
    "print(y_val_forecasting.shape)\n",
    "print(y_test_forecasting.shape)"
   ],
   "metadata": {
    "collapsed": false,
    "ExecuteTime": {
     "end_time": "2023-12-22T17:02:50.251385600Z",
     "start_time": "2023-12-22T17:02:50.140633600Z"
    }
   }
  },
  {
   "cell_type": "markdown",
   "source": [
    "# Build and fit the model"
   ],
   "metadata": {
    "id": "2lA6uEZvt2ip"
   }
  },
  {
   "cell_type": "code",
   "execution_count": 28,
   "metadata": {
    "colab": {
     "base_uri": "https://localhost:8080/"
    },
    "id": "iOBG1o7zbDRo",
    "outputId": "869ec44c-3d45-4a48-8929-3e454581d9c2",
    "ExecuteTime": {
     "end_time": "2023-12-22T17:02:52.838633Z",
     "start_time": "2023-12-22T17:02:52.816851500Z"
    }
   },
   "outputs": [
    {
     "name": "stdout",
     "output_type": "stream",
     "text": [
      "(200, 1)\n",
      "(18, 1)\n"
     ]
    }
   ],
   "source": [
    "input_shape = X_train.shape[1:]\n",
    "print(input_shape)\n",
    "\n",
    "output_shape = y_train_forecasting.shape[1:]\n",
    "print(output_shape)\n",
    "\n",
    "batch_size = 64\n",
    "epochs = 150"
   ]
  },
  {
   "cell_type": "code",
   "execution_count": 29,
   "metadata": {
    "id": "mK8Z1jqCryMk",
    "ExecuteTime": {
     "end_time": "2023-12-22T17:02:55.249976900Z",
     "start_time": "2023-12-22T17:02:54.837324Z"
    }
   },
   "outputs": [],
   "source": [
    "def build_BiLSTM_classifier(input_shape, output_shape):\n",
    "    input_layer = tfk.layers.Input(shape=input_shape, name='Input')\n",
    "\n",
    "    # Mask, consider only samples in valid_periods\n",
    "    mask = tf.keras.layers.Masking(mask_value=-1.0, input_shape=input_shape)(input_layer)\n",
    "\n",
    "    # Convolutional\n",
    "    conv_layer = tfkl.Conv1D(200,6,padding=\"same\",strides=1,name=\"Conv\")(mask)\n",
    "\n",
    "    # Pooling\n",
    "    pooling = tfkl.MaxPooling1D(3,padding=\"same\")(conv_layer)\n",
    "\n",
    "    # BiLSTM\n",
    "    bilstm = tfkl.Bidirectional(tfkl.LSTM(256, return_sequences=True))(pooling)\n",
    "    bilstm1 = tfkl.Bidirectional(tfkl.LSTM(256, return_sequences=True))(bilstm)\n",
    "\n",
    "    # Dropout\n",
    "    dropout = tfk.layers.Dropout(0.5)(bilstm1)\n",
    "\n",
    "    # Flattening\n",
    "    flattening = tfkl.Flatten()(dropout)\n",
    "\n",
    "    # Prediction\n",
    "    output_layer = tfkl.Dense(output_shape[0], activation='linear', name='output_layer')(flattening)\n",
    "\n",
    "    # Connect input and output through the Model class\n",
    "    model = tfk.Model(inputs=input_layer, outputs=output_layer, name='model')\n",
    "\n",
    "    # Compile the model\n",
    "    model.compile(loss=tf.keras.losses.MeanSquaredError(), optimizer=tf.keras.optimizers.Adam())\n",
    "\n",
    "    # Return the model\n",
    "    return model"
   ]
  },
  {
   "cell_type": "code",
   "execution_count": 30,
   "metadata": {
    "colab": {
     "base_uri": "https://localhost:8080/"
    },
    "id": "BNth1t5YbQeA",
    "outputId": "9e95f68d-3729-4374-b507-880915b6fc54",
    "ExecuteTime": {
     "end_time": "2023-12-22T17:03:03.787752100Z",
     "start_time": "2023-12-22T17:03:00.108623400Z"
    }
   },
   "outputs": [
    {
     "name": "stdout",
     "output_type": "stream",
     "text": [
      "Model: \"model\"\n",
      "_________________________________________________________________\n",
      " Layer (type)                Output Shape              Param #   \n",
      "=================================================================\n",
      " Input (InputLayer)          [(None, 200, 1)]          0         \n",
      "                                                                 \n",
      " masking (Masking)           (None, 200, 1)            0         \n",
      "                                                                 \n",
      " Conv (Conv1D)               (None, 200, 200)          1400      \n",
      "                                                                 \n",
      " max_pooling1d (MaxPooling1  (None, 67, 200)           0         \n",
      " D)                                                              \n",
      "                                                                 \n",
      " bidirectional (Bidirection  (None, 67, 512)           935936    \n",
      " al)                                                             \n",
      "                                                                 \n",
      " bidirectional_1 (Bidirecti  (None, 67, 512)           1574912   \n",
      " onal)                                                           \n",
      "                                                                 \n",
      " dropout (Dropout)           (None, 67, 512)           0         \n",
      "                                                                 \n",
      " flatten (Flatten)           (None, 34304)             0         \n",
      "                                                                 \n",
      " output_layer (Dense)        (None, 18)                617490    \n",
      "                                                                 \n",
      "=================================================================\n",
      "Total params: 3129738 (11.94 MB)\n",
      "Trainable params: 3129738 (11.94 MB)\n",
      "Non-trainable params: 0 (0.00 Byte)\n",
      "_________________________________________________________________\n"
     ]
    }
   ],
   "source": [
    "# build the model\n",
    "model = build_BiLSTM_classifier(input_shape, output_shape)\n",
    "\n",
    "# model summary\n",
    "model.summary()"
   ]
  },
  {
   "cell_type": "code",
   "source": [
    "# block schema\n",
    "tfk.utils.plot_model(model, expand_nested=True, show_shapes=True)"
   ],
   "metadata": {
    "colab": {
     "base_uri": "https://localhost:8080/",
     "height": 976
    },
    "id": "gjo5-uj18l2Y",
    "outputId": "d996e8c6-b43e-4ebc-df71-658fe46e6506",
    "ExecuteTime": {
     "end_time": "2023-12-22T17:03:05.068280600Z",
     "start_time": "2023-12-22T17:03:04.991117800Z"
    }
   },
   "execution_count": 31,
   "outputs": [
    {
     "name": "stdout",
     "output_type": "stream",
     "text": [
      "You must install pydot (`pip install pydot`) and install graphviz (see instructions at https://graphviz.gitlab.io/download/) for plot_model to work.\n"
     ]
    }
   ]
  },
  {
   "cell_type": "code",
   "execution_count": null,
   "metadata": {
    "colab": {
     "base_uri": "https://localhost:8080/"
    },
    "id": "Greq9LzPbVkF",
    "outputId": "4703d897-e901-42ba-f43b-efad018fbb4f"
   },
   "outputs": [
    {
     "output_type": "stream",
     "name": "stdout",
     "text": [
      "Epoch 1/150\n",
      "529/529 [==============================] - 33s 40ms/step - loss: 0.0340 - val_loss: 0.0216\n",
      "Epoch 2/150\n",
      "529/529 [==============================] - 20s 38ms/step - loss: 0.0218 - val_loss: 0.0201\n",
      "Epoch 3/150\n",
      "529/529 [==============================] - 19s 37ms/step - loss: 0.0202 - val_loss: 0.0193\n",
      "Epoch 4/150\n",
      "529/529 [==============================] - 19s 36ms/step - loss: 0.0195 - val_loss: 0.0238\n",
      "Epoch 5/150\n",
      "529/529 [==============================] - 19s 37ms/step - loss: 0.0191 - val_loss: 0.0220\n",
      "Epoch 6/150\n",
      "529/529 [==============================] - 19s 37ms/step - loss: 0.0188 - val_loss: 0.0178\n",
      "Epoch 7/150\n",
      "529/529 [==============================] - 22s 41ms/step - loss: 0.0182 - val_loss: 0.0216\n",
      "Epoch 8/150\n",
      "529/529 [==============================] - 20s 37ms/step - loss: 0.0181 - val_loss: 0.0173\n",
      "Epoch 9/150\n",
      "529/529 [==============================] - 19s 37ms/step - loss: 0.0177 - val_loss: 0.0180\n",
      "Epoch 10/150\n",
      "529/529 [==============================] - 19s 37ms/step - loss: 0.0174 - val_loss: 0.0256\n",
      "Epoch 11/150\n",
      "529/529 [==============================] - 19s 37ms/step - loss: 0.0174 - val_loss: 0.0180\n",
      "Epoch 12/150\n",
      "529/529 [==============================] - 19s 37ms/step - loss: 0.0168 - val_loss: 0.0221\n",
      "Epoch 13/150\n",
      "529/529 [==============================] - 19s 37ms/step - loss: 0.0168 - val_loss: 0.0164\n",
      "Epoch 14/150\n",
      "529/529 [==============================] - 20s 39ms/step - loss: 0.0163 - val_loss: 0.0166\n",
      "Epoch 15/150\n",
      "529/529 [==============================] - 21s 39ms/step - loss: 0.0161 - val_loss: 0.0170\n",
      "Epoch 16/150\n",
      "529/529 [==============================] - 22s 41ms/step - loss: 0.0160 - val_loss: 0.0174\n",
      "Epoch 17/150\n",
      "529/529 [==============================] - 21s 40ms/step - loss: 0.0157 - val_loss: 0.0153\n",
      "Epoch 18/150\n",
      "529/529 [==============================] - 19s 37ms/step - loss: 0.0154 - val_loss: 0.0178\n",
      "Epoch 19/150\n",
      "529/529 [==============================] - 20s 37ms/step - loss: 0.0154 - val_loss: 0.0155\n",
      "Epoch 20/150\n",
      "529/529 [==============================] - 19s 37ms/step - loss: 0.0150 - val_loss: 0.0162\n",
      "Epoch 21/150\n",
      "529/529 [==============================] - 20s 37ms/step - loss: 0.0147 - val_loss: 0.0146\n",
      "Epoch 22/150\n",
      "529/529 [==============================] - 20s 37ms/step - loss: 0.0145 - val_loss: 0.0148\n",
      "Epoch 23/150\n",
      "529/529 [==============================] - 19s 37ms/step - loss: 0.0143 - val_loss: 0.0145\n",
      "Epoch 24/150\n",
      "529/529 [==============================] - 19s 37ms/step - loss: 0.0139 - val_loss: 0.0147\n",
      "Epoch 25/150\n",
      "529/529 [==============================] - 19s 37ms/step - loss: 0.0137 - val_loss: 0.0143\n",
      "Epoch 26/150\n",
      "529/529 [==============================] - 20s 37ms/step - loss: 0.0133 - val_loss: 0.0144\n",
      "Epoch 27/150\n",
      "529/529 [==============================] - 20s 38ms/step - loss: 0.0129 - val_loss: 0.0145\n",
      "Epoch 28/150\n",
      "529/529 [==============================] - 19s 36ms/step - loss: 0.0126 - val_loss: 0.0139\n",
      "Epoch 29/150\n",
      "529/529 [==============================] - 20s 37ms/step - loss: 0.0122 - val_loss: 0.0137\n",
      "Epoch 30/150\n",
      "529/529 [==============================] - 19s 37ms/step - loss: 0.0119 - val_loss: 0.0136\n",
      "Epoch 31/150\n",
      "529/529 [==============================] - 19s 37ms/step - loss: 0.0115 - val_loss: 0.0136\n",
      "Epoch 32/150\n",
      "529/529 [==============================] - 20s 37ms/step - loss: 0.0110 - val_loss: 0.0134\n",
      "Epoch 33/150\n",
      "529/529 [==============================] - 19s 37ms/step - loss: 0.0106 - val_loss: 0.0132\n",
      "Epoch 34/150\n",
      "529/529 [==============================] - 19s 37ms/step - loss: 0.0102 - val_loss: 0.0133\n",
      "Epoch 35/150\n",
      "529/529 [==============================] - 20s 37ms/step - loss: 0.0098 - val_loss: 0.0130\n",
      "Epoch 36/150\n",
      "529/529 [==============================] - 20s 37ms/step - loss: 0.0094 - val_loss: 0.0131\n",
      "Epoch 37/150\n",
      "529/529 [==============================] - 19s 37ms/step - loss: 0.0090 - val_loss: 0.0128\n",
      "Epoch 38/150\n",
      "529/529 [==============================] - 21s 40ms/step - loss: 0.0086 - val_loss: 0.0130\n",
      "Epoch 39/150\n",
      "529/529 [==============================] - 20s 38ms/step - loss: 0.0083 - val_loss: 0.0127\n",
      "Epoch 40/150\n",
      "529/529 [==============================] - 20s 37ms/step - loss: 0.0080 - val_loss: 0.0129\n",
      "Epoch 41/150\n",
      "529/529 [==============================] - 21s 40ms/step - loss: 0.0078 - val_loss: 0.0126\n",
      "Epoch 42/150\n",
      "529/529 [==============================] - 19s 37ms/step - loss: 0.0076 - val_loss: 0.0128\n",
      "Epoch 43/150\n",
      "529/529 [==============================] - 19s 37ms/step - loss: 0.0072 - val_loss: 0.0127\n",
      "Epoch 44/150\n",
      "529/529 [==============================] - 22s 42ms/step - loss: 0.0070 - val_loss: 0.0126\n",
      "Epoch 45/150\n",
      "529/529 [==============================] - 22s 41ms/step - loss: 0.0067 - val_loss: 0.0126\n",
      "Epoch 46/150\n",
      "529/529 [==============================] - 21s 40ms/step - loss: 0.0065 - val_loss: 0.0128\n",
      "Epoch 47/150\n",
      "529/529 [==============================] - 21s 41ms/step - loss: 0.0063 - val_loss: 0.0130\n",
      "Epoch 48/150\n",
      "529/529 [==============================] - 22s 42ms/step - loss: 0.0060 - val_loss: 0.0127\n",
      "Epoch 49/150\n",
      "529/529 [==============================] - 22s 42ms/step - loss: 0.0058 - val_loss: 0.0124\n",
      "Epoch 50/150\n",
      "529/529 [==============================] - 20s 37ms/step - loss: 0.0057 - val_loss: 0.0124\n",
      "Epoch 51/150\n",
      "529/529 [==============================] - 20s 37ms/step - loss: 0.0055 - val_loss: 0.0124\n",
      "Epoch 52/150\n",
      "529/529 [==============================] - 20s 38ms/step - loss: 0.0054 - val_loss: 0.0124\n",
      "Epoch 53/150\n",
      "529/529 [==============================] - 21s 40ms/step - loss: 0.0052 - val_loss: 0.0123\n",
      "Epoch 54/150\n",
      "529/529 [==============================] - 20s 37ms/step - loss: 0.0051 - val_loss: 0.0123\n",
      "Epoch 55/150\n",
      "529/529 [==============================] - 20s 37ms/step - loss: 0.0050 - val_loss: 0.0123\n",
      "Epoch 56/150\n",
      "529/529 [==============================] - 20s 39ms/step - loss: 0.0048 - val_loss: 0.0123\n",
      "Epoch 57/150\n",
      "529/529 [==============================] - 20s 37ms/step - loss: 0.0047 - val_loss: 0.0121\n",
      "Epoch 58/150\n",
      "529/529 [==============================] - 20s 38ms/step - loss: 0.0045 - val_loss: 0.0122\n",
      "Epoch 59/150\n",
      "529/529 [==============================] - 21s 39ms/step - loss: 0.0044 - val_loss: 0.0121\n",
      "Epoch 60/150\n",
      "529/529 [==============================] - 20s 37ms/step - loss: 0.0043 - val_loss: 0.0122\n",
      "Epoch 61/150\n",
      "529/529 [==============================] - 20s 37ms/step - loss: 0.0043 - val_loss: 0.0120\n",
      "Epoch 62/150\n",
      "529/529 [==============================] - 20s 37ms/step - loss: 0.0042 - val_loss: 0.0122\n",
      "Epoch 63/150\n",
      "529/529 [==============================] - 20s 37ms/step - loss: 0.0040 - val_loss: 0.0122\n",
      "Epoch 64/150\n",
      "529/529 [==============================] - 20s 39ms/step - loss: 0.0039 - val_loss: 0.0120\n",
      "Epoch 65/150\n",
      "529/529 [==============================] - 20s 37ms/step - loss: 0.0039 - val_loss: 0.0120\n",
      "Epoch 66/150\n",
      "529/529 [==============================] - 20s 37ms/step - loss: 0.0041 - val_loss: 0.0120\n",
      "Epoch 67/150\n",
      "529/529 [==============================] - 20s 37ms/step - loss: 0.0038 - val_loss: 0.0121\n",
      "Epoch 68/150\n",
      "529/529 [==============================] - 20s 37ms/step - loss: 0.0036 - val_loss: 0.0118\n",
      "Epoch 69/150\n",
      "529/529 [==============================] - 20s 37ms/step - loss: 0.0036 - val_loss: 0.0119\n",
      "Epoch 70/150\n",
      "529/529 [==============================] - 20s 37ms/step - loss: 0.0035 - val_loss: 0.0119\n",
      "Epoch 71/150\n",
      "529/529 [==============================] - 20s 37ms/step - loss: 0.0035 - val_loss: 0.0120\n",
      "Epoch 72/150\n",
      "529/529 [==============================] - 20s 37ms/step - loss: 0.0034 - val_loss: 0.0117\n",
      "Epoch 73/150\n",
      "529/529 [==============================] - 20s 37ms/step - loss: 0.0037 - val_loss: 0.0119\n",
      "Epoch 74/150\n",
      "529/529 [==============================] - 20s 37ms/step - loss: 0.0033 - val_loss: 0.0120\n",
      "Epoch 75/150\n",
      "529/529 [==============================] - 20s 37ms/step - loss: 0.0032 - val_loss: 0.0120\n",
      "Epoch 76/150\n",
      "529/529 [==============================] - 20s 37ms/step - loss: 0.0032 - val_loss: 0.0118\n",
      "Epoch 77/150\n",
      "529/529 [==============================] - 20s 37ms/step - loss: 0.0032 - val_loss: 0.0120\n",
      "Epoch 78/150\n",
      "529/529 [==============================] - 20s 37ms/step - loss: 0.0031 - val_loss: 0.0119\n",
      "Epoch 79/150\n",
      "529/529 [==============================] - 20s 37ms/step - loss: 0.0031 - val_loss: 0.0118\n",
      "Epoch 80/150\n",
      "529/529 [==============================] - 20s 37ms/step - loss: 0.0030 - val_loss: 0.0118\n",
      "Epoch 81/150\n",
      "529/529 [==============================] - 21s 39ms/step - loss: 0.0030 - val_loss: 0.0116\n",
      "Epoch 82/150\n",
      "529/529 [==============================] - 20s 38ms/step - loss: 0.0029 - val_loss: 0.0118\n",
      "Epoch 83/150\n",
      "529/529 [==============================] - 20s 37ms/step - loss: 0.0030 - val_loss: 0.0117\n",
      "Epoch 84/150\n",
      "529/529 [==============================] - 20s 37ms/step - loss: 0.0029 - val_loss: 0.0118\n",
      "Epoch 85/150\n",
      "529/529 [==============================] - 20s 37ms/step - loss: 0.0028 - val_loss: 0.0117\n",
      "Epoch 86/150\n",
      "529/529 [==============================] - 20s 38ms/step - loss: 0.0028 - val_loss: 0.0117\n",
      "Epoch 87/150\n",
      "529/529 [==============================] - 20s 37ms/step - loss: 0.0027 - val_loss: 0.0118\n",
      "Epoch 88/150\n",
      "529/529 [==============================] - 20s 37ms/step - loss: 0.0027 - val_loss: 0.0117\n",
      "Epoch 89/150\n",
      "529/529 [==============================] - 20s 37ms/step - loss: 0.0027 - val_loss: 0.0118\n",
      "Epoch 90/150\n",
      "529/529 [==============================] - 20s 37ms/step - loss: 0.0027 - val_loss: 0.0118\n",
      "Epoch 91/150\n",
      "529/529 [==============================] - 20s 37ms/step - loss: 0.0026 - val_loss: 0.0118\n"
     ]
    }
   ],
   "source": [
    "# Train the model\n",
    "history = model.fit(\n",
    "    x = X_train,\n",
    "    y = {'output_layer': y_train_forecasting},\n",
    "    batch_size = batch_size,\n",
    "    epochs = epochs,\n",
    "    validation_data= ( X_val,  y_val_forecasting),\n",
    "    callbacks = [\n",
    "        tfk.callbacks.EarlyStopping(monitor='val_loss', mode='min', patience=10, restore_best_weights=True),\n",
    "    ]\n",
    ").history"
   ]
  },
  {
   "cell_type": "markdown",
   "source": [
    "# Prediction"
   ],
   "metadata": {
    "id": "gjh4YJaXuAT7"
   }
  },
  {
   "cell_type": "code",
   "execution_count": null,
   "metadata": {
    "id": "rE-QaE9kcenW"
   },
   "outputs": [],
   "source": [
    "# predictions\n",
    "forecasting_predictions = model.predict(X_test, verbose=0)"
   ]
  },
  {
   "cell_type": "code",
   "execution_count": null,
   "metadata": {
    "id": "rYLXSp05xxsd",
    "colab": {
     "base_uri": "https://localhost:8080/"
    },
    "outputId": "0ec678f0-df4c-4c96-ae39-125c21256f12"
   },
   "outputs": [
    {
     "output_type": "stream",
     "name": "stdout",
     "text": [
      "Mean Squared Error: 0.011693797074258327\n"
     ]
    }
   ],
   "source": [
    "# Mean Squared Error\n",
    "mean_squared_error = tfk.metrics.mean_squared_error(y_test_forecasting.flatten(), forecasting_predictions.flatten()).numpy()\n",
    "print(f\"Mean Squared Error: {mean_squared_error}\")"
   ]
  },
  {
   "cell_type": "code",
   "execution_count": null,
   "metadata": {
    "id": "r6_Dj6a2VLMQ",
    "colab": {
     "base_uri": "https://localhost:8080/"
    },
    "outputId": "32617949-87a9-4a23-99a7-358d959dcc22"
   },
   "outputs": [
    {
     "output_type": "stream",
     "name": "stdout",
     "text": [
      "Mean Absolute Error: 0.07036209851503372\n"
     ]
    }
   ],
   "source": [
    "# Mean Absolute Error\n",
    "mean_absolute_error = tfk.metrics.mean_absolute_error(y_test_forecasting.flatten(), forecasting_predictions.flatten()).numpy()\n",
    "print(f\"Mean Absolute Error: {mean_absolute_error}\")"
   ]
  }
 ],
 "metadata": {
  "accelerator": "GPU",
  "colab": {
   "provenance": []
  },
  "kernelspec": {
   "name": "python3",
   "language": "python",
   "display_name": "Python 3 (ipykernel)"
  },
  "language_info": {
   "name": "python"
  }
 },
 "nbformat": 4,
 "nbformat_minor": 0
}
